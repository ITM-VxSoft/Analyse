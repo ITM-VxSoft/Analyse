{
 "cells": [
  {
   "cell_type": "markdown",
   "source": [
    "## Analyse the given data\n",
    "\n",
    "*Notice:*\n",
    "> ToDo: Need to write description for an issue"
   ],
   "metadata": {
    "collapsed": false
   }
  },
  {
   "cell_type": "code",
   "execution_count": 91,
   "outputs": [
    {
     "data": {
      "text/plain": "      sender_id       sender_title  workflow_id  \\\n0          4319  Դիմում yerevan.am           23   \n1          3724    yerevan.am կայք            5   \n2          4319  Դիմում yerevan.am           23   \n3          3724    yerevan.am կայք           27   \n4          4319  Դիմում yerevan.am           23   \n...         ...                ...          ...   \n9959       4319  Դիմում yerevan.am           23   \n9960       4319  Դիմում yerevan.am           23   \n9961       4319  Դիմում yerevan.am           23   \n9962       4319  Դիմում yerevan.am           23   \n9963       4319  Դիմում yerevan.am           23   \n\n                       workflow_title  \\\n0     Դիմումներ կազմակերպություններից   \n1             Դիմումներ քաղաքացիներից   \n2     Դիմումներ կազմակերպություններից   \n3           Մտից չգրանցվող փաստաթղթեր   \n4     Դիմումներ կազմակերպություններից   \n...                               ...   \n9959  Դիմումներ կազմակերպություններից   \n9960  Դիմումներ կազմակերպություններից   \n9961  Դիմումներ կազմակերպություններից   \n9962  Դիմումներ կազմակերպություններից   \n9963  Դիմումներ կազմակերպություններից   \n\n                                       submission_title  \\\n0     ՍՎԵՏԼԱՆԱ ՅԱՅԼՈՅԱՆ ԳԱԳԻԿԻ Ա/Ձ ՀՎՀՀ - 28060491, ...   \n1                     Ինչու իմ դիմումին չեք պատասխանում   \n2     ՍՎԵՏԼԱՆԱ ՅԱՅԼՈՅԱՆ ԳԱԳԻԿԻ Ա/Ձ ՀՎՀՀ - 28060491, ...   \n3                                Vjarvac@ brnagadzvel e   \n4     «ԳՐԻԼ.ԱՄ» ՍՊԸ ՀՎՀՀ - 02838615, 1, 2, 3, 4 եռամ...   \n...                                                 ...   \n9959  «ՌԵԴԻ-ՍԹԵԴԻ» ՍՊԸ ՀՎՀՀ - 00851011, 1 եռամսյակ, ...   \n9960  «ՌԵԴԻ-ՍԹԵԴԻ» ՍՊԸ ՀՎՀՀ - 00851011, 1 եռամսյակ, ...   \n9961  «ՌԵԴԻ-ՍԹԵԴԻ» ՍՊԸ ՀՎՀՀ - 00851011, 1 եռամսյակ, ...   \n9962  «ՌԵԴԻ-ՍԹԵԴԻ» ՍՊԸ ՀՎՀՀ - 00851011, 1 եռամսյակ, ...   \n9963  «ՌԵԴԻ-ՍԹԵԴԻ» ՍՊԸ ՀՎՀՀ - 00851011, 1 եռամսյակ, ...   \n\n                                             task_title  \n0     ՍՎԵՏԼԱՆԱ ՅԱՅԼՈՅԱՆ ԳԱԳԻԿԻ Ա/Ձ ՀՎՀՀ - 28060491, ...  \n1     /Yerevan.am/ Դ-24260-23 դիմումին պատասխան չտրա...  \n2     ՍՎԵՏԼԱՆԱ ՅԱՅԼՈՅԱՆ ԳԱԳԻԿԻ Ա/Ձ ՀՎՀՀ - 28060491, ...  \n3     Չեղարկում - Սուսաննա Շահինյան, Shahinyansus@gm...  \n4     «ԳՐԻԼ.ԱՄ» ՍՊԸ ՀՎՀՀ - 02838615, 1, 2, 3, 4 եռամ...  \n...                                                 ...  \n9959  «ՌԵԴԻ-ՍԹԵԴԻ» ՍՊԸ ՀՎՀՀ - 00851011, 1 եռամսյակ, ...  \n9960  «ՌԵԴԻ-ՍԹԵԴԻ» ՍՊԸ ՀՎՀՀ - 00851011, 1 եռամսյակ, ...  \n9961  «ՌԵԴԻ-ՍԹԵԴԻ» ՍՊԸ ՀՎՀՀ - 00851011, 1 եռամսյակ, ...  \n9962  «ՌԵԴԻ-ՍԹԵԴԻ» ՍՊԸ ՀՎՀՀ - 00851011, 1 եռամսյակ, ...  \n9963  «ՌԵԴԻ-ՍԹԵԴԻ» ՍՊԸ ՀՎՀՀ - 00851011, 1 եռամսյակ, ...  \n\n[9964 rows x 6 columns]",
      "text/html": "<div>\n<style scoped>\n    .dataframe tbody tr th:only-of-type {\n        vertical-align: middle;\n    }\n\n    .dataframe tbody tr th {\n        vertical-align: top;\n    }\n\n    .dataframe thead th {\n        text-align: right;\n    }\n</style>\n<table border=\"1\" class=\"dataframe\">\n  <thead>\n    <tr style=\"text-align: right;\">\n      <th></th>\n      <th>sender_id</th>\n      <th>sender_title</th>\n      <th>workflow_id</th>\n      <th>workflow_title</th>\n      <th>submission_title</th>\n      <th>task_title</th>\n    </tr>\n  </thead>\n  <tbody>\n    <tr>\n      <th>0</th>\n      <td>4319</td>\n      <td>Դիմում yerevan.am</td>\n      <td>23</td>\n      <td>Դիմումներ կազմակերպություններից</td>\n      <td>ՍՎԵՏԼԱՆԱ ՅԱՅԼՈՅԱՆ ԳԱԳԻԿԻ Ա/Ձ ՀՎՀՀ - 28060491, ...</td>\n      <td>ՍՎԵՏԼԱՆԱ ՅԱՅԼՈՅԱՆ ԳԱԳԻԿԻ Ա/Ձ ՀՎՀՀ - 28060491, ...</td>\n    </tr>\n    <tr>\n      <th>1</th>\n      <td>3724</td>\n      <td>yerevan.am կայք</td>\n      <td>5</td>\n      <td>Դիմումներ քաղաքացիներից</td>\n      <td>Ինչու իմ դիմումին չեք պատասխանում</td>\n      <td>/Yerevan.am/ Դ-24260-23 դիմումին պատասխան չտրա...</td>\n    </tr>\n    <tr>\n      <th>2</th>\n      <td>4319</td>\n      <td>Դիմում yerevan.am</td>\n      <td>23</td>\n      <td>Դիմումներ կազմակերպություններից</td>\n      <td>ՍՎԵՏԼԱՆԱ ՅԱՅԼՈՅԱՆ ԳԱԳԻԿԻ Ա/Ձ ՀՎՀՀ - 28060491, ...</td>\n      <td>ՍՎԵՏԼԱՆԱ ՅԱՅԼՈՅԱՆ ԳԱԳԻԿԻ Ա/Ձ ՀՎՀՀ - 28060491, ...</td>\n    </tr>\n    <tr>\n      <th>3</th>\n      <td>3724</td>\n      <td>yerevan.am կայք</td>\n      <td>27</td>\n      <td>Մտից չգրանցվող փաստաթղթեր</td>\n      <td>Vjarvac@ brnagadzvel e</td>\n      <td>Չեղարկում - Սուսաննա Շահինյան, Shahinyansus@gm...</td>\n    </tr>\n    <tr>\n      <th>4</th>\n      <td>4319</td>\n      <td>Դիմում yerevan.am</td>\n      <td>23</td>\n      <td>Դիմումներ կազմակերպություններից</td>\n      <td>«ԳՐԻԼ.ԱՄ» ՍՊԸ ՀՎՀՀ - 02838615, 1, 2, 3, 4 եռամ...</td>\n      <td>«ԳՐԻԼ.ԱՄ» ՍՊԸ ՀՎՀՀ - 02838615, 1, 2, 3, 4 եռամ...</td>\n    </tr>\n    <tr>\n      <th>...</th>\n      <td>...</td>\n      <td>...</td>\n      <td>...</td>\n      <td>...</td>\n      <td>...</td>\n      <td>...</td>\n    </tr>\n    <tr>\n      <th>9959</th>\n      <td>4319</td>\n      <td>Դիմում yerevan.am</td>\n      <td>23</td>\n      <td>Դիմումներ կազմակերպություններից</td>\n      <td>«ՌԵԴԻ-ՍԹԵԴԻ» ՍՊԸ ՀՎՀՀ - 00851011, 1 եռամսյակ, ...</td>\n      <td>«ՌԵԴԻ-ՍԹԵԴԻ» ՍՊԸ ՀՎՀՀ - 00851011, 1 եռամսյակ, ...</td>\n    </tr>\n    <tr>\n      <th>9960</th>\n      <td>4319</td>\n      <td>Դիմում yerevan.am</td>\n      <td>23</td>\n      <td>Դիմումներ կազմակերպություններից</td>\n      <td>«ՌԵԴԻ-ՍԹԵԴԻ» ՍՊԸ ՀՎՀՀ - 00851011, 1 եռամսյակ, ...</td>\n      <td>«ՌԵԴԻ-ՍԹԵԴԻ» ՍՊԸ ՀՎՀՀ - 00851011, 1 եռամսյակ, ...</td>\n    </tr>\n    <tr>\n      <th>9961</th>\n      <td>4319</td>\n      <td>Դիմում yerevan.am</td>\n      <td>23</td>\n      <td>Դիմումներ կազմակերպություններից</td>\n      <td>«ՌԵԴԻ-ՍԹԵԴԻ» ՍՊԸ ՀՎՀՀ - 00851011, 1 եռամսյակ, ...</td>\n      <td>«ՌԵԴԻ-ՍԹԵԴԻ» ՍՊԸ ՀՎՀՀ - 00851011, 1 եռամսյակ, ...</td>\n    </tr>\n    <tr>\n      <th>9962</th>\n      <td>4319</td>\n      <td>Դիմում yerevan.am</td>\n      <td>23</td>\n      <td>Դիմումներ կազմակերպություններից</td>\n      <td>«ՌԵԴԻ-ՍԹԵԴԻ» ՍՊԸ ՀՎՀՀ - 00851011, 1 եռամսյակ, ...</td>\n      <td>«ՌԵԴԻ-ՍԹԵԴԻ» ՍՊԸ ՀՎՀՀ - 00851011, 1 եռամսյակ, ...</td>\n    </tr>\n    <tr>\n      <th>9963</th>\n      <td>4319</td>\n      <td>Դիմում yerevan.am</td>\n      <td>23</td>\n      <td>Դիմումներ կազմակերպություններից</td>\n      <td>«ՌԵԴԻ-ՍԹԵԴԻ» ՍՊԸ ՀՎՀՀ - 00851011, 1 եռամսյակ, ...</td>\n      <td>«ՌԵԴԻ-ՍԹԵԴԻ» ՍՊԸ ՀՎՀՀ - 00851011, 1 եռամսյակ, ...</td>\n    </tr>\n  </tbody>\n</table>\n<p>9964 rows × 6 columns</p>\n</div>"
     },
     "execution_count": 91,
     "metadata": {},
     "output_type": "execute_result"
    }
   ],
   "source": [
    "# Namespace for the created package\n",
    "__name__ = 'Analyse'\n",
    "\n",
    "# The package name which is used for analysing\n",
    "__package__ = 'pandas'\n",
    "\n",
    "# Get the path of the base directory\n",
    "__BASE_DIR__ = __import__('pathlib').Path().resolve()\n",
    "\n",
    "# Settings static path of the files for which need to be analysing.\n",
    "__PATH__ = {\n",
    "    \"Submissions\" : __BASE_DIR__.parent.parent / \"csv/submissions.csv\",\n",
    "    \"Workflows\" : __BASE_DIR__.parent.parent / \"csv/workflows.csv\"\n",
    "}\n",
    "\n",
    "# Getting data for each file\n",
    "__DATA__ = {\n",
    "    \"Workflows\": __import__('pandas').read_csv(__PATH__[\"Workflows\"], sep=';'),\n",
    "    \"Submissions\": __import__('pandas').read_csv(__PATH__[\"Submissions\"], sep=';')\n",
    "}\n",
    "\n",
    "\n",
    "# Call dataframe for submissions\n",
    "__DATA__[\"Submissions\"]\n",
    "\n",
    "\"\"\"\n",
    "# Set index by necessary\n",
    "__DATA__ = __DATA__.set_index('$COLUMN_NAME')\n",
    "\n",
    "# Change type of all columns except excluded columns.\n",
    "exclude_columns = ['SELECTED_COL-1', 'Selected column 2']\n",
    "__DATA__[\n",
    "            __DATA__.columns.difference(\n",
    "                exclude_columns\n",
    "            )] = __DATA__[\n",
    "                __DATA__.columns.difference(\n",
    "                    exclude_columns\n",
    "                )].astype(float)\n",
    "\"\"\""
   ],
   "metadata": {
    "collapsed": false
   }
  }
 ],
 "metadata": {
  "kernelspec": {
   "display_name": "Python 3",
   "language": "python",
   "name": "python3"
  },
  "language_info": {
   "codemirror_mode": {
    "name": "ipython",
    "version": 2
   },
   "file_extension": ".py",
   "mimetype": "text/x-python",
   "name": "python",
   "nbconvert_exporter": "python",
   "pygments_lexer": "ipython2",
   "version": "2.7.6"
  }
 },
 "nbformat": 4,
 "nbformat_minor": 0
}
